{
 "cells": [
  {
   "cell_type": "markdown",
   "metadata": {},
   "source": [
    "QUERY AND KEYWORD ANALYSIS "
   ]
  },
  {
   "cell_type": "code",
   "execution_count": 1,
   "metadata": {},
   "outputs": [],
   "source": [
    "#importing the library\n",
    "import pandas as pd\n",
    "import numpy as np"
   ]
  },
  {
   "cell_type": "code",
   "execution_count": 2,
   "metadata": {},
   "outputs": [],
   "source": [
    "#reading the query and top8k data file\n",
    "\n",
    "df= pd.read_csv(\"C:/Users/saisurya.prakky/Desktop/Realtor/Rental_botify_bucketing/GSC_Rental_Agg.csv\")\n",
    "#top8k = pd.read_csv(\"C:/Users/ujjwala.gupta/Documents/Botify/top8k.csv\")"
   ]
  },
  {
   "cell_type": "code",
   "execution_count": 3,
   "metadata": {},
   "outputs": [],
   "source": [
    "#considering just top8k urls\n",
    "url_list= df[\"page\"].tolist()"
   ]
  },
  {
   "cell_type": "code",
   "execution_count": 4,
   "metadata": {},
   "outputs": [
    {
     "data": {
      "text/html": [
       "<div>\n",
       "<style scoped>\n",
       "    .dataframe tbody tr th:only-of-type {\n",
       "        vertical-align: middle;\n",
       "    }\n",
       "\n",
       "    .dataframe tbody tr th {\n",
       "        vertical-align: top;\n",
       "    }\n",
       "\n",
       "    .dataframe thead th {\n",
       "        text-align: right;\n",
       "    }\n",
       "</style>\n",
       "<table border=\"1\" class=\"dataframe\">\n",
       "  <thead>\n",
       "    <tr style=\"text-align: right;\">\n",
       "      <th></th>\n",
       "      <th>query</th>\n",
       "      <th>impressions</th>\n",
       "      <th>rank</th>\n",
       "      <th>page</th>\n",
       "    </tr>\n",
       "  </thead>\n",
       "  <tbody>\n",
       "    <tr>\n",
       "      <th>0</th>\n",
       "      <td>441</td>\n",
       "      <td>9</td>\n",
       "      <td>9</td>\n",
       "      <td>https://www.realtor.com/apartments/441-Corrido...</td>\n",
       "    </tr>\n",
       "    <tr>\n",
       "      <th>1</th>\n",
       "      <td>3804</td>\n",
       "      <td>1</td>\n",
       "      <td>20</td>\n",
       "      <td>https://www.realtor.com/apartments/03804</td>\n",
       "    </tr>\n",
       "    <tr>\n",
       "      <th>2</th>\n",
       "      <td>7701</td>\n",
       "      <td>12</td>\n",
       "      <td>14</td>\n",
       "      <td>https://www.realtor.com/apartments/07701</td>\n",
       "    </tr>\n",
       "    <tr>\n",
       "      <th>3</th>\n",
       "      <td>8205</td>\n",
       "      <td>1</td>\n",
       "      <td>20</td>\n",
       "      <td>https://www.realtor.com/apartments/08205</td>\n",
       "    </tr>\n",
       "    <tr>\n",
       "      <th>4</th>\n",
       "      <td>8360</td>\n",
       "      <td>30</td>\n",
       "      <td>6</td>\n",
       "      <td>https://www.realtor.com/apartments/08360</td>\n",
       "    </tr>\n",
       "  </tbody>\n",
       "</table>\n",
       "</div>"
      ],
      "text/plain": [
       "  query  impressions  rank                                               page\n",
       "0   441            9     9  https://www.realtor.com/apartments/441-Corrido...\n",
       "1  3804            1    20           https://www.realtor.com/apartments/03804\n",
       "2  7701           12    14           https://www.realtor.com/apartments/07701\n",
       "3  8205            1    20           https://www.realtor.com/apartments/08205\n",
       "4  8360           30     6           https://www.realtor.com/apartments/08360"
      ]
     },
     "execution_count": 4,
     "metadata": {},
     "output_type": "execute_result"
    }
   ],
   "source": [
    "#visit = pd.read_csv(\"C:/Users/ujjwala.gupta/Documents/Botify/visit_imp_srp.csv\")\n",
    "df.head()"
   ]
  },
  {
   "cell_type": "code",
   "execution_count": 5,
   "metadata": {},
   "outputs": [],
   "source": [
    "# impressions of feb for each url of top8k\n",
    "imp_url= df.groupby(\"page\")['impressions'].sum().reset_index()"
   ]
  },
  {
   "cell_type": "code",
   "execution_count": 6,
   "metadata": {},
   "outputs": [],
   "source": [
    "#Classifying the impressions into different category\n",
    "def imp_anchor(x):\n",
    "    if x<=50:\n",
    "        return \"Very Low Traffic Geos\"\n",
    "    if 50<x<=500:\n",
    "        return \"Low Traffic Geos\"\n",
    "    if 500<x<=1500:\n",
    "        return \"Moderate Traffic Geos\"\n",
    "    if 500<x<=3000:\n",
    "        return \"High Traffic Geos\"\n",
    "    if 3000<x:\n",
    "        return \"Very High Traffic Geos\""
   ]
  },
  {
   "cell_type": "code",
   "execution_count": 7,
   "metadata": {},
   "outputs": [],
   "source": [
    "#classifying the geos on the basis of impressions\n",
    "imp_url['geogroup']= imp_url[\"impressions\"].apply(imp_anchor)"
   ]
  },
  {
   "cell_type": "code",
   "execution_count": 8,
   "metadata": {},
   "outputs": [
    {
     "data": {
      "text/html": [
       "<div>\n",
       "<style scoped>\n",
       "    .dataframe tbody tr th:only-of-type {\n",
       "        vertical-align: middle;\n",
       "    }\n",
       "\n",
       "    .dataframe tbody tr th {\n",
       "        vertical-align: top;\n",
       "    }\n",
       "\n",
       "    .dataframe thead th {\n",
       "        text-align: right;\n",
       "    }\n",
       "</style>\n",
       "<table border=\"1\" class=\"dataframe\">\n",
       "  <thead>\n",
       "    <tr style=\"text-align: right;\">\n",
       "      <th></th>\n",
       "      <th>index</th>\n",
       "      <th>geogroup</th>\n",
       "    </tr>\n",
       "  </thead>\n",
       "  <tbody>\n",
       "    <tr>\n",
       "      <th>0</th>\n",
       "      <td>Very Low Traffic Geos</td>\n",
       "      <td>34404</td>\n",
       "    </tr>\n",
       "    <tr>\n",
       "      <th>1</th>\n",
       "      <td>Low Traffic Geos</td>\n",
       "      <td>11219</td>\n",
       "    </tr>\n",
       "    <tr>\n",
       "      <th>2</th>\n",
       "      <td>Moderate Traffic Geos</td>\n",
       "      <td>3946</td>\n",
       "    </tr>\n",
       "    <tr>\n",
       "      <th>3</th>\n",
       "      <td>Very High Traffic Geos</td>\n",
       "      <td>3430</td>\n",
       "    </tr>\n",
       "    <tr>\n",
       "      <th>4</th>\n",
       "      <td>High Traffic Geos</td>\n",
       "      <td>1980</td>\n",
       "    </tr>\n",
       "  </tbody>\n",
       "</table>\n",
       "</div>"
      ],
      "text/plain": [
       "                    index  geogroup\n",
       "0   Very Low Traffic Geos     34404\n",
       "1        Low Traffic Geos     11219\n",
       "2   Moderate Traffic Geos      3946\n",
       "3  Very High Traffic Geos      3430\n",
       "4       High Traffic Geos      1980"
      ]
     },
     "execution_count": 8,
     "metadata": {},
     "output_type": "execute_result"
    }
   ],
   "source": [
    "imp_url['geogroup'].value_counts().reset_index()"
   ]
  },
  {
   "cell_type": "code",
   "execution_count": 9,
   "metadata": {},
   "outputs": [
    {
     "data": {
      "text/html": [
       "<div>\n",
       "<style scoped>\n",
       "    .dataframe tbody tr th:only-of-type {\n",
       "        vertical-align: middle;\n",
       "    }\n",
       "\n",
       "    .dataframe tbody tr th {\n",
       "        vertical-align: top;\n",
       "    }\n",
       "\n",
       "    .dataframe thead th {\n",
       "        text-align: right;\n",
       "    }\n",
       "</style>\n",
       "<table border=\"1\" class=\"dataframe\">\n",
       "  <thead>\n",
       "    <tr style=\"text-align: right;\">\n",
       "      <th></th>\n",
       "      <th>page</th>\n",
       "      <th>impressions</th>\n",
       "      <th>geogroup</th>\n",
       "    </tr>\n",
       "  </thead>\n",
       "  <tbody>\n",
       "    <tr>\n",
       "      <th>0</th>\n",
       "      <td>https://www.realtor.com/apartments/00795</td>\n",
       "      <td>1</td>\n",
       "      <td>Very Low Traffic Geos</td>\n",
       "    </tr>\n",
       "    <tr>\n",
       "      <th>1</th>\n",
       "      <td>https://www.realtor.com/apartments/00802</td>\n",
       "      <td>478</td>\n",
       "      <td>Low Traffic Geos</td>\n",
       "    </tr>\n",
       "    <tr>\n",
       "      <th>2</th>\n",
       "      <td>https://www.realtor.com/apartments/00803</td>\n",
       "      <td>380</td>\n",
       "      <td>Low Traffic Geos</td>\n",
       "    </tr>\n",
       "    <tr>\n",
       "      <th>3</th>\n",
       "      <td>https://www.realtor.com/apartments/00918</td>\n",
       "      <td>58</td>\n",
       "      <td>Low Traffic Geos</td>\n",
       "    </tr>\n",
       "    <tr>\n",
       "      <th>4</th>\n",
       "      <td>https://www.realtor.com/apartments/01007</td>\n",
       "      <td>1</td>\n",
       "      <td>Very Low Traffic Geos</td>\n",
       "    </tr>\n",
       "  </tbody>\n",
       "</table>\n",
       "</div>"
      ],
      "text/plain": [
       "                                       page  impressions  \\\n",
       "0  https://www.realtor.com/apartments/00795            1   \n",
       "1  https://www.realtor.com/apartments/00802          478   \n",
       "2  https://www.realtor.com/apartments/00803          380   \n",
       "3  https://www.realtor.com/apartments/00918           58   \n",
       "4  https://www.realtor.com/apartments/01007            1   \n",
       "\n",
       "                geogroup  \n",
       "0  Very Low Traffic Geos  \n",
       "1       Low Traffic Geos  \n",
       "2       Low Traffic Geos  \n",
       "3       Low Traffic Geos  \n",
       "4  Very Low Traffic Geos  "
      ]
     },
     "execution_count": 9,
     "metadata": {},
     "output_type": "execute_result"
    }
   ],
   "source": [
    "imp_url.head()"
   ]
  },
  {
   "cell_type": "code",
   "execution_count": 10,
   "metadata": {},
   "outputs": [
    {
     "data": {
      "text/html": [
       "<div>\n",
       "<style scoped>\n",
       "    .dataframe tbody tr th:only-of-type {\n",
       "        vertical-align: middle;\n",
       "    }\n",
       "\n",
       "    .dataframe tbody tr th {\n",
       "        vertical-align: top;\n",
       "    }\n",
       "\n",
       "    .dataframe thead th {\n",
       "        text-align: right;\n",
       "    }\n",
       "</style>\n",
       "<table border=\"1\" class=\"dataframe\">\n",
       "  <thead>\n",
       "    <tr style=\"text-align: right;\">\n",
       "      <th></th>\n",
       "      <th>page</th>\n",
       "      <th>geogroup</th>\n",
       "      <th>query</th>\n",
       "      <th>impressions</th>\n",
       "      <th>rank</th>\n",
       "    </tr>\n",
       "  </thead>\n",
       "  <tbody>\n",
       "    <tr>\n",
       "      <th>0</th>\n",
       "      <td>https://www.realtor.com/apartments/00795</td>\n",
       "      <td>Very Low Traffic Geos</td>\n",
       "      <td>casas para alquilar en juana díaz</td>\n",
       "      <td>1</td>\n",
       "      <td>3</td>\n",
       "    </tr>\n",
       "    <tr>\n",
       "      <th>1</th>\n",
       "      <td>https://www.realtor.com/apartments/00802</td>\n",
       "      <td>Low Traffic Geos</td>\n",
       "      <td>2 bedroom apartments near me</td>\n",
       "      <td>2</td>\n",
       "      <td>2</td>\n",
       "    </tr>\n",
       "    <tr>\n",
       "      <th>2</th>\n",
       "      <td>https://www.realtor.com/apartments/00802</td>\n",
       "      <td>Low Traffic Geos</td>\n",
       "      <td>apartments for rent in saint thomas virgin isl...</td>\n",
       "      <td>1</td>\n",
       "      <td>1</td>\n",
       "    </tr>\n",
       "    <tr>\n",
       "      <th>3</th>\n",
       "      <td>https://www.realtor.com/apartments/00802</td>\n",
       "      <td>Low Traffic Geos</td>\n",
       "      <td>apartments for rent in st thomas</td>\n",
       "      <td>1</td>\n",
       "      <td>1</td>\n",
       "    </tr>\n",
       "    <tr>\n",
       "      <th>4</th>\n",
       "      <td>https://www.realtor.com/apartments/00802</td>\n",
       "      <td>Low Traffic Geos</td>\n",
       "      <td>apartments for rent in st thomas usvi</td>\n",
       "      <td>18</td>\n",
       "      <td>1</td>\n",
       "    </tr>\n",
       "  </tbody>\n",
       "</table>\n",
       "</div>"
      ],
      "text/plain": [
       "                                       page               geogroup  \\\n",
       "0  https://www.realtor.com/apartments/00795  Very Low Traffic Geos   \n",
       "1  https://www.realtor.com/apartments/00802       Low Traffic Geos   \n",
       "2  https://www.realtor.com/apartments/00802       Low Traffic Geos   \n",
       "3  https://www.realtor.com/apartments/00802       Low Traffic Geos   \n",
       "4  https://www.realtor.com/apartments/00802       Low Traffic Geos   \n",
       "\n",
       "                                               query  impressions  rank  \n",
       "0                  casas para alquilar en juana díaz            1     3  \n",
       "1                       2 bedroom apartments near me            2     2  \n",
       "2  apartments for rent in saint thomas virgin isl...            1     1  \n",
       "3                   apartments for rent in st thomas            1     1  \n",
       "4              apartments for rent in st thomas usvi           18     1  "
      ]
     },
     "execution_count": 10,
     "metadata": {},
     "output_type": "execute_result"
    }
   ],
   "source": [
    "imp_url.drop(columns={\"impressions\"}, inplace=True)\n",
    "df_final = pd.DataFrame()\n",
    "df_final= pd.merge(imp_url,df, on=\"page\",how=\"inner\")\n",
    "df_final.head()"
   ]
  },
  {
   "cell_type": "code",
   "execution_count": 11,
   "metadata": {},
   "outputs": [
    {
     "name": "stdout",
     "output_type": "stream",
     "text": [
      "Requirement already satisfied: langdetect in c:\\users\\saisurya.prakky\\anaconda3\\lib\\site-packages (1.0.9)\n",
      "Requirement already satisfied: six in c:\\users\\saisurya.prakky\\anaconda3\\lib\\site-packages (from langdetect) (1.15.0)\n",
      "Note: you may need to restart the kernel to use updated packages.\n"
     ]
    }
   ],
   "source": [
    "pip install langdetect"
   ]
  },
  {
   "cell_type": "code",
   "execution_count": 12,
   "metadata": {},
   "outputs": [],
   "source": [
    "from langdetect import detect"
   ]
  },
  {
   "cell_type": "code",
   "execution_count": 13,
   "metadata": {},
   "outputs": [],
   "source": [
    "df1= df.sample(frac = 0.1)"
   ]
  },
  {
   "cell_type": "code",
   "execution_count": 14,
   "metadata": {},
   "outputs": [],
   "source": [
    "from tqdm.auto import tqdm"
   ]
  },
  {
   "cell_type": "code",
   "execution_count": 15,
   "metadata": {},
   "outputs": [
    {
     "name": "stderr",
     "output_type": "stream",
     "text": [
      "C:\\Users\\saisurya.prakky\\Anaconda3\\lib\\site-packages\\tqdm\\std.py:697: FutureWarning: The Panel class is removed from pandas. Accessing it from the top-level namespace will also be removed in the next version\n",
      "  from pandas import Panel\n"
     ]
    }
   ],
   "source": [
    "tqdm.pandas()"
   ]
  },
  {
   "cell_type": "code",
   "execution_count": 16,
   "metadata": {},
   "outputs": [],
   "source": [
    "def det(x):\n",
    "    try:\n",
    "        lang = detect(x)\n",
    "    except:\n",
    "        lang = 'Other'\n",
    "    return lang"
   ]
  },
  {
   "cell_type": "code",
   "execution_count": null,
   "metadata": {},
   "outputs": [
    {
     "data": {
      "application/vnd.jupyter.widget-view+json": {
       "model_id": "8baf02d77f434053813874aa6d28d17c",
       "version_major": 2,
       "version_minor": 0
      },
      "text/plain": [
       "HBox(children=(HTML(value=''), FloatProgress(value=0.0, max=80841.0), HTML(value='')))"
      ]
     },
     "metadata": {},
     "output_type": "display_data"
    }
   ],
   "source": [
    "df1['Lang'] = df1['query'].progress_apply(det)"
   ]
  },
  {
   "cell_type": "code",
   "execution_count": null,
   "metadata": {},
   "outputs": [],
   "source": [
    "df1.head "
   ]
  },
  {
   "cell_type": "code",
   "execution_count": null,
   "metadata": {},
   "outputs": [],
   "source": [
    "df[df['Lang']=='Other',[\"query\",\"Lang\"]]"
   ]
  },
  {
   "cell_type": "code",
   "execution_count": null,
   "metadata": {},
   "outputs": [],
   "source": [
    "df[df['Lang']=='Other',df[\"query\",\"Lang\"]]"
   ]
  },
  {
   "cell_type": "code",
   "execution_count": null,
   "metadata": {},
   "outputs": [],
   "source": [
    "Zip_Code.head(200)"
   ]
  },
  {
   "cell_type": "code",
   "execution_count": null,
   "metadata": {},
   "outputs": [],
   "source": [
    "Non_Zip_Code.head(200)"
   ]
  },
  {
   "cell_type": "code",
   "execution_count": null,
   "metadata": {},
   "outputs": [],
   "source": [
    "df['Languagereveiw'].value_counts()"
   ]
  },
  {
   "cell_type": "code",
   "execution_count": null,
   "metadata": {},
   "outputs": [],
   "source": []
  },
  {
   "cell_type": "code",
   "execution_count": null,
   "metadata": {},
   "outputs": [],
   "source": []
  },
  {
   "cell_type": "code",
   "execution_count": null,
   "metadata": {},
   "outputs": [],
   "source": []
  },
  {
   "cell_type": "code",
   "execution_count": null,
   "metadata": {},
   "outputs": [],
   "source": []
  },
  {
   "cell_type": "code",
   "execution_count": null,
   "metadata": {},
   "outputs": [],
   "source": [
    "# #Highly searched pages\n",
    "# df_high= df_desktop[df_desktop['URL'].isin(imp_high)]\n",
    "# df_worse= df_desktop[df_desktop['URL'].isin(imp_worse)]\n",
    "# df_low= df_desktop[df_desktop['URL'].isin(imp_low)]\n",
    "# df_medium= df_desktop[df_desktop['URL'].isin(imp_medium)]\n",
    "# df_medium= df_desktop[df_desktop['URL'].isin(imp_average)]\n",
    "# df_high['location'] = df_high['URL'].apply(lambda x: x.split('/')[4])\n",
    "# df_worse['location'] = df_worse['URL'].apply(lambda x: x.split('/')[4])\n",
    "# df_low['location'] = df_low['URL'].apply(lambda x: x.split('/')[4])\n",
    "# df_medium['location'] = df_medium['URL'].apply(lambda x: x.split('/')[4])\n",
    "\n",
    "# df_high['geogroup'] = \"High\"\n",
    "# df_low['geogroup'] = \"Low\"\n",
    "# df_worse['geogroup'] = \"Worse\"\n",
    "# df_medium['geogroup'] = \"Medium\""
   ]
  },
  {
   "cell_type": "code",
   "execution_count": null,
   "metadata": {},
   "outputs": [],
   "source": [
    "pd.set_option('display.max_rows', None)\n",
    "pd.set_option('display.max_columns', None)"
   ]
  },
  {
   "cell_type": "code",
   "execution_count": null,
   "metadata": {},
   "outputs": [],
   "source": [
    "df = df_high.append([df_worse, df_low, df_medium])\n",
    "len(df)"
   ]
  },
  {
   "cell_type": "code",
   "execution_count": null,
   "metadata": {},
   "outputs": [],
   "source": [
    "# listing the top 5 impressioned query for each url and sort it by imp and position \n",
    "imp_keywords= top8k_final.sort_values(\"Impressions On Compared Period\",ascending=False).groupby([\"geogroup\",\"URL\"]).head(5)\n",
    "# group_keywords= imp_keywords.groupby(\"geogroup\")['Keyword'].unique().tolist()"
   ]
  },
  {
   "cell_type": "code",
   "execution_count": null,
   "metadata": {},
   "outputs": [],
   "source": [
    "import re\n",
    "def keyword_anchor(x):\n",
    "    if re.search(r'(^(Homes for sale)$|^(homes for sale)$|^(Homes for Sale)$)', str(x)):\n",
    "        return \"Homesforsale\"\n",
    "    elif re.search(r'(^(Houses for sale)$|^(houses for sale)$|^(Houses for Sale)$)', str(x)):\n",
    "        return \"Housesforsale\"\n",
    "    elif re.search(r'(^(real estate)$|^(Real Estate)$|^(Real estate)$)', str(x)):\n",
    "        return \"realestate\"\n",
    "    elif re.search(r'^(Real Estate in) (\\w\\s*){1,}|^(real estate in) (\\w\\s*){1,}',str(x)):\n",
    "        return \"realestate2\"\n",
    "    elif re.search(r'((\\w\\s*){1,} (Real Estate|real estate|Real estate)$|^(Real Estate|real estate|Real estate) (\\w\\s*){1,})',str(x)):\n",
    "        return \"cityrealestate\"\n",
    "    elif re.search(r'(^(Homes For Sale in) (\\w\\s*){1,}|^(homes for sale in) (\\w\\s*){1,}|^(Homes for sale in) (\\w\\s*){1,})',str(x)):\n",
    "        return \"Homesforsaleincity\"\n",
    "    elif re.search(r'(^(Houses For Sale in) (\\w\\s*){1,}|^(houses for sale in) (\\w\\s*){1,}|^(Houses for sale in) (\\w\\s*){1,})',str(x)):\n",
    "        return \"Housesforsaleincity\"\n",
    "    elif re.search(r'((\\w\\s*){1,} (Homes for Sale|Homes For Sale|homes for sale|Homes for sale)$)|(^(Homes for Sale|Homes For Sale|homes for sale|Homes for sale) (\\w\\s*){1,})',str(x)):\n",
    "        return \"cityhomesforsale\"\n",
    "    elif re.search(r'((\\w\\s*){1,} (Houses for Sale|Houses For Sale|houses for sale|Houses for sale)$)|(^(Houses for Sale|Houses For Sale|houses for sale|Houses for sale) (\\w\\s*){1,})',str(x)):\n",
    "        return \"cityhousesforsale\"\n",
    "    elif re.search(r'(((\\w *)(\\w*\\s*){,3}$)|(((\\w\\s*){1,})\\,\\ ([a-zA-Z]{2})$))', str(x)):\n",
    "        return \"cityname&state\"\n",
    "    return str(x)"
   ]
  },
  {
   "cell_type": "code",
   "execution_count": null,
   "metadata": {},
   "outputs": [],
   "source": [
    "df1['querytype'] = df1['query'].apply(keyword_anchor)"
   ]
  },
  {
   "cell_type": "code",
   "execution_count": null,
   "metadata": {},
   "outputs": [],
   "source": []
  },
  {
   "cell_type": "code",
   "execution_count": null,
   "metadata": {},
   "outputs": [],
   "source": []
  },
  {
   "cell_type": "code",
   "execution_count": null,
   "metadata": {},
   "outputs": [],
   "source": []
  },
  {
   "cell_type": "code",
   "execution_count": null,
   "metadata": {},
   "outputs": [],
   "source": []
  },
  {
   "cell_type": "code",
   "execution_count": null,
   "metadata": {},
   "outputs": [],
   "source": []
  },
  {
   "cell_type": "code",
   "execution_count": null,
   "metadata": {},
   "outputs": [],
   "source": []
  },
  {
   "cell_type": "code",
   "execution_count": null,
   "metadata": {},
   "outputs": [],
   "source": []
  },
  {
   "cell_type": "code",
   "execution_count": null,
   "metadata": {},
   "outputs": [],
   "source": []
  },
  {
   "cell_type": "code",
   "execution_count": null,
   "metadata": {},
   "outputs": [],
   "source": []
  },
  {
   "cell_type": "code",
   "execution_count": null,
   "metadata": {},
   "outputs": [],
   "source": []
  },
  {
   "cell_type": "code",
   "execution_count": null,
   "metadata": {},
   "outputs": [],
   "source": []
  },
  {
   "cell_type": "code",
   "execution_count": null,
   "metadata": {},
   "outputs": [],
   "source": [
    "# b= imp_keywords.groupby('URL')['Keyword'].nunique()\n",
    "# b"
   ]
  },
  {
   "cell_type": "code",
   "execution_count": null,
   "metadata": {},
   "outputs": [],
   "source": [
    "#For each geo group, find the count of keywords for every keyword type\n",
    "geo_key_anchor= imp_keywords.groupby(['Geogroup','querytype'])['Keyword'].count().reset_index()\n",
    "geo_key_anchor = geo_key_anchor.set_index(\"Geogroup\")\n",
    "geo_key_anchor1 = imp_keywords.groupby(\"Geogroup\")[\"Keyword\"].count().reset_index()\n",
    "geo_key_anchor1.set_index(\"Geogroup\", inplace=True)\n",
    "geo_key_anchor[\"%total\"] = geo_key_anchor[\"Keyword\"]*100/geo_key_anchor1[\"Keyword\"]\n",
    "geo_key_anchor.drop(columns=[\"Keyword\"], inplace=True)\n",
    "geo_key_anchor.reset_index(inplace=True)\n",
    "geo_key_anchor = geo_key_anchor.pivot(index=\"querytype\", columns=\"Geogroup\", values=\"%total\")\n",
    "geo_key_anchor.replace(np.nan, 0, inplace=True)\n",
    "geo_key_anchor"
   ]
  },
  {
   "cell_type": "code",
   "execution_count": null,
   "metadata": {},
   "outputs": [],
   "source": [
    "#bar graph representation of above table\n",
    "import numpy as np\n",
    "import matplotlib.pyplot as plt\n",
    "import matplotlib\n",
    "from matplotlib.colors import ListedColormap\n",
    "import seaborn as sns\n",
    "sns.set()\n",
    "geo_key_anchor.T.plot(kind='bar', stacked=True,figsize=(15,8))\n",
    "plt.xticks(rotation=360, ha='right')\n",
    "plt.ylabel(\"Percentage of Keywords belonging to anchortype\")\n",
    "plt.xlabel(\"Geo Group\")\n",
    "plt.title(\"Bifurcation of the keyword text type for each geo group\")\n",
    "plt.show()"
   ]
  },
  {
   "cell_type": "code",
   "execution_count": null,
   "metadata": {},
   "outputs": [],
   "source": [
    "#keywords like homes for sale in city--- they are not present in actual title \n",
    "anchor_query= imp_keywords[imp_keywords['Keyword in Top Anchors']==True]"
   ]
  },
  {
   "cell_type": "code",
   "execution_count": null,
   "metadata": {},
   "outputs": [],
   "source": [
    "#EXCEPTION---- NOT CONSISTENT WITH WEBSITE AND BOTIFY DATA\n",
    "#list of query which are in anchor text but not in description\n",
    "anchor_notDT_query= imp_keywords[(imp_keywords['Keyword in Top Anchors']==True) & (imp_keywords['Keyword in Title']==True)]\n",
    "anchor_notDT_query= anchor_notDT_query.groupby([\"Geogroup\",\"URL\"])[\"Keyword\"].unique().reset_index()\n",
    "anchor_notDT_query['location'] = anchor_notDT_query['URL'].apply(lambda x: x.split('/')[4])\n",
    "anchor_notDT_query"
   ]
  },
  {
   "cell_type": "code",
   "execution_count": null,
   "metadata": {},
   "outputs": [],
   "source": [
    "# COUNT OF KEYWORDS/QUERY WHICH LIES IN ANCHOR TEXT, PAGE TITLE AND META DESCRIPTION\n",
    "keyword_anchor = imp_keywords[imp_keywords[\"Keyword in Top Anchors\"]== True].groupby(\"Geogroup\")[\"Keyword\"].count().reset_index()\n",
    "keyword_anchor= keyword_anchor.rename(columns={\"Keyword\":\"Count of Keyword in Anchor text\"})\n",
    "keyword_titleanchor = imp_keywords[(imp_keywords[\"Keyword in Top Anchors\"]== True) & (imp_keywords['Keyword in Title']==True)].groupby(\"Geogroup\")[\"Keyword\"].count().reset_index()\n",
    "keyword_titleanchor= keyword_titleanchor.rename(columns={\"Keyword\":\"Count of Keyword in Anchor text & title\"})\n",
    "keyword_anchordes = imp_keywords[(imp_keywords[\"Keyword in Top Anchors\"]== True) & (imp_keywords['Keyword in Description']==True)].groupby(\"Geogroup\")[\"Keyword\"].count().reset_index()\n",
    "keyword_anchordes= keyword_anchordes.rename(columns={\"Keyword\":\"Count of Keyword in Anchor text & description\"})\n",
    "keyword_anchordestitle = imp_keywords[(imp_keywords[\"Keyword in Top Anchors\"]== True) & (imp_keywords['Keyword in Description']==True)  & (imp_keywords['Keyword in Title']==True)].groupby(\"Geogroup\")[\"Keyword\"].count().reset_index()\n",
    "keyword_anchordestitle= keyword_anchordestitle.rename(columns={\"Keyword\":\"Count of Keyword in Anchor, title and description\"})\n",
    "keyword_anchor.set_index('Geogroup',inplace=True)\n",
    "keyword_titleanchor.set_index('Geogroup',inplace=True)\n",
    "keyword_anchordes.set_index('Geogroup',inplace=True)\n",
    "keyword_anchordestitle.set_index('Geogroup',inplace=True)\n",
    "df_new = pd.concat([keyword_anchor,keyword_titleanchor,keyword_anchordes,keyword_anchordestitle],axis=1,sort=False).reset_index()\n",
    "df_new.rename(columns = {'index':'Geogroup'}, inplace=True)\n",
    "df_new"
   ]
  },
  {
   "cell_type": "code",
   "execution_count": null,
   "metadata": {},
   "outputs": [],
   "source": [
    "# GROUP WISE TOTAL NUUMBER OF KEYWORDS FOR EACH GROUP\n",
    "test = imp_keywords.groupby(\"Geogroup\")['Keyword'].count().reset_index()\n",
    "test"
   ]
  },
  {
   "cell_type": "code",
   "execution_count": null,
   "metadata": {},
   "outputs": [],
   "source": [
    "# GROUP WISE TOTAL NUUMBER OF UNIQUE KEYWORDS FOR EACH GROUP\n",
    "test1 = imp_keywords.groupby(\"Geogroup\")['Keyword'].nunique()\n",
    "test1"
   ]
  },
  {
   "cell_type": "code",
   "execution_count": null,
   "metadata": {},
   "outputs": [],
   "source": [
    "#anhcor text data\n",
    "import pandas as pd\n",
    "df1= pd.read_csv(\"C:/Users/ujjwala.gupta/Documents/Botify/anchor_data.csv\")"
   ]
  },
  {
   "cell_type": "code",
   "execution_count": null,
   "metadata": {},
   "outputs": [],
   "source": [
    "# delete all none values\n",
    "df1= df1.dropna()"
   ]
  },
  {
   "cell_type": "code",
   "execution_count": null,
   "metadata": {},
   "outputs": [],
   "source": [
    "df1.columns"
   ]
  },
  {
   "cell_type": "code",
   "execution_count": null,
   "metadata": {},
   "outputs": [],
   "source": [
    "# constructing new dataframe for just checking the worth of inlinks\n",
    "df1_inlink= df1.drop(df1.iloc[:,0:13], axis = 1)\n",
    "df1_inlink= df1_inlink.drop(df1_inlink.columns[1], axis = 1)\n",
    "df1_inlink= df1_inlink.drop_duplicates(subset =\"Source Full URL\", keep = 'first')\n",
    "df1_inlink['Source Full URL'].nunique()"
   ]
  },
  {
   "cell_type": "code",
   "execution_count": null,
   "metadata": {},
   "outputs": [],
   "source": [
    "#total no of geos considered in analysis\n",
    "unique_geo= df1['Full URL'].unique().tolist()\n",
    "len(unique_geo)"
   ]
  },
  {
   "cell_type": "code",
   "execution_count": null,
   "metadata": {},
   "outputs": [],
   "source": [
    "#Dividing the geos into four category depending on impressions in february \n",
    "df1_low = df1[df1['Full URL'].isin(imp_low)]\n",
    "df1_medium = df1[df1['Full URL'].isin(imp_medium)]\n",
    "df1_high= df1[df1['Full URL'].isin(imp_high)]\n",
    "#add the column for each group and then merge the dataframes\n",
    "df1_low['geogroup']=\"Low Traffic Geos\"\n",
    "df1_medium['geogroup']='Medium Traffic Geos'\n",
    "df1_high['geogroup']=\"High Traffic Geos\"\n",
    "df1 = df1_high.append([df1_medium, df1_low])\n",
    "len(df1)"
   ]
  },
  {
   "cell_type": "code",
   "execution_count": null,
   "metadata": {},
   "outputs": [],
   "source": [
    "# For each geo, count of inlinks by count of anchor text\n",
    "inlink_list=  df1.groupby([\"geogroup\",\"Full URL\",\"Source Full URL\"])[\"Internal Inlinks - Anchor Text\"].agg({\"count\": lambda x: x.count(),\"unique\": lambda x: x.nunique()}).reset_index()\n",
    "inlink_count= inlink_list.groupby(['geogroup','count'])[\"Source Full URL\"].count().reset_index()\n",
    "inlink_count= inlink_count.pivot(index='count', columns='geogroup', values='Source Full URL')\n",
    "inlink_count.rename(columns={\"count\":\"Anchor text count\"},inplace=True)\n",
    "inlink_count.replace(np.nan,0, inplace=True)\n",
    "inlink_count"
   ]
  },
  {
   "cell_type": "code",
   "execution_count": null,
   "metadata": {},
   "outputs": [],
   "source": [
    "# For each geo, count of unique inlinks by count of anchor text\n",
    "inlink_list= df1.groupby([\"geogroup\",\"Full URL\",\"Source Full URL\"])[\"Internal Inlinks - Anchor Text\"].agg({\"count\": lambda x: x.count(),\"unique\": lambda x: x.nunique()}).reset_index()\n",
    "inlink_count= inlink_list.groupby(['geogroup','unique'])[\"Source Full URL\"].count().reset_index()\n",
    "inlink_count= inlink_count.pivot(index='unique', columns='geogroup', values='Source Full URL')\n",
    "inlink_count.rename(columns={\"unique\":\"Anchor text count\"},inplace=True)\n",
    "inlink_count.replace(np.nan,0, inplace=True)\n",
    "inlink_count"
   ]
  },
  {
   "cell_type": "code",
   "execution_count": null,
   "metadata": {},
   "outputs": [],
   "source": [
    "# For each geogroup, calculate unique and total anchor text have more unique anchor text compared to low impressioned geos\n",
    "geo_anchor = df1.groupby(\"geogroup\")[\"Internal Inlinks - Anchor Text\"].agg({\"count\": lambda x: x.count(),\"unique\": lambda x: x.nunique()}).reset_index()\n",
    "geo_anchor"
   ]
  },
  {
   "cell_type": "code",
   "execution_count": null,
   "metadata": {},
   "outputs": [],
   "source": [
    "#How many geos in each geo group have unique anchor text\n",
    "geo_anchor_count= df1.groupby([\"geogroup\",\"Full URL\"])[\"Internal Inlinks - Anchor Text\"].nunique().reset_index()\n",
    "geo_anchor_count= geo_anchor_count.groupby(['geogroup','Internal Inlinks - Anchor Text'])['Full URL'].count().reset_index()\n",
    "geo_anchor_count= geo_anchor_count.pivot(index='Internal Inlinks - Anchor Text', columns='geogroup', values='Full URL')\n",
    "geo_anchor_count.replace(np.nan,0,inplace=True)\n",
    "geo_anchor_count"
   ]
  },
  {
   "cell_type": "code",
   "execution_count": null,
   "metadata": {},
   "outputs": [],
   "source": [
    "# a= geo_anchor_count['Full URL'][(geo_anchor_count['Internal Inlinks - Anchor Text']==10)&(geo_anchor_count['geogroup']==\"High Traffic Geos\")].unique()\n",
    "# test= df1[df1['Full URL']==\"https://www.realtor.com/realestateandhomes-search/Los-Angeles_CA\"]['Internal Inlinks - Anchor Text'].unique()\n",
    "# test\n",
    "# [(geo_anchor_count['geogroup']==\"High Traffic Geos\") & (geo_anchor_count['Internal Inlinks - Anchor Text']==10)]"
   ]
  },
  {
   "cell_type": "code",
   "execution_count": null,
   "metadata": {},
   "outputs": [],
   "source": []
  },
  {
   "cell_type": "markdown",
   "metadata": {},
   "source": [
    "# SOURCE/INLINKS PAGETYPES ( SEGMENTATION MADE IN BOTIFY)\n",
    "\n",
    "#Top8k----- list of top8k landing geos\n",
    "#pagination----       https://www.realtor.com/realestateandhomes-search/Atlanta_GA/pg-2\n",
    " overview----         https://www.realtor.com/realestateandhomes-search/Atlanta_GA/overview\n",
    " open houses -----    https://www.realtor.com/realestateandhomes-search/Atlanta_GA/show-open-house \n",
    " New homes -----      https://www.realtor.com/realestateandhomes-search/Atlanta_GA/shw-nc\n",
    " condostownhouse ---- https://www.realtor.com/realestateandhomes-search/Atlanta_GA/type-condo-townhome-row-home\n",
    " singlefamilyhomes ---https://www.realtor.com/realestateandhomes-search/Atlanta_GA/type-single-family-home\n",
    " multifamilyhomes---- https://www.realtor.com/realestateandhomes-search/Atlanta_GA/type-multi-family-home\n",
    " typeland -----       https://www.realtor.com/realestateandhomes-search/Atlanta_GA/type-land\n",
    " withfilters---- Consist of all pages ending with filters like (with_corner_plot, with_swimmingpool, etc)\n",
    " schools -----        https://www.realtor.com/realestateandhomes-search/Atlanta_GA/schools/Brandon-Elementary-School-0718572851\n",
    " university ------    https://www.realtor.com/realestateandhomes-search/Atlanta_GA/university/Brandon-university-0718572851\n",
    " explore------        https://www.realtor.com/realestateandhomes-search/Atlanta_GA/explore\n",
    " homes-for-sale ------https://www.realtor.com/realestateandhomes-search/Atlanta_GA/homes-for-sale\n",
    " pricereduced----     https://www.realtor.com/realestateandhomes-search/Atlanta_GA/price-reduced\n",
    " housingmarket -----  https://www.realtor.com/realestateandhomes-search/Atlanta_GA/housing-market\n",
    " newestlisting-----   https://www.realtor.com/realestateandhomes-search/Atlanta_GA/newest-listings\n",
    " mfdmobilehomes ---   https://www.realtor.com/realestateandhomes-search/Atlanta_GA/type-mfd-mobile-home\n",
    " farmranches ------   https://www.realtor.com/realestateandhomes-search/Atlanta_GA/type-farms-ranches\n",
    " Nomatch--- Comprised of all geos except top8k, state pages, zipcode pages"
   ]
  },
  {
   "cell_type": "code",
   "execution_count": null,
   "metadata": {},
   "outputs": [],
   "source": [
    "# # #pagetype level distribution of unique and total inlinks- relects that which pagetype has more anchor text and inlinks jadha hai\n",
    "inlink_duplicate = df1.groupby([\"geogroup\",\"Source pagetype\",\"Full URL\"])[\"Source Full URL\"].agg({\"count\": lambda x: x.count(),\"unique\": lambda x: x.nunique()})\n",
    "inlink_duplicate = inlink_duplicate[[\"count\",\"unique\"]].groupby(['geogroup','Source pagetype']).apply(lambda x: x.sum())\n",
    "# inlink_duplicate['unique%']= inlink_duplicate['unique']*100/inlink_duplicate['count']\n",
    "inlink_duplicate =inlink_duplicate[[\"unique\"]]\n",
    "inlink_duplicate.reset_index(inplace=True)\n",
    "inlink_duplicate= inlink_duplicate.pivot(index=\"Source pagetype\", columns=\"geogroup\",values=\"unique\").sort_values(ascending=False, by=\"High Traffic Geos\")\n",
    "inlink_duplicate.replace(np.nan,0, inplace=True)\n",
    "inlink_duplicate"
   ]
  },
  {
   "cell_type": "code",
   "execution_count": null,
   "metadata": {},
   "outputs": [],
   "source": [
    "def unique(x):\n",
    "    if x<=50:\n",
    "        return \"(0:50%)\"\n",
    "    elif 50<x<=70:\n",
    "        return \"(50%:70%)\"\n",
    "    elif 70<x<=80:\n",
    "        return \"(70%:80%)\"\n",
    "    elif 80<x<=90:\n",
    "        return \"(80%:90%)\"\n",
    "    elif x>90:\n",
    "        return \"(90%:100%)\""
   ]
  },
  {
   "cell_type": "code",
   "execution_count": null,
   "metadata": {},
   "outputs": [],
   "source": [
    "# COUNT OF SOURCE PAGETYPE CATEGORY WHICH BELONGS TO DIFFERENT RANGE OF INLINKS UNIQUENESS\n",
    "inlink_duplicate.replace(np.nan,0,inplace=True) \n",
    "inlink_duplicate[\"unique%\"] = inlink_duplicate[\"unique%\"].apply(unique)\n",
    "inlink_duplicate.replace(np.nan,0,inplace=True)\n",
    "inlink_duplicate = inlink_duplicate.pivot(index='Source pagetype',columns='geogroup',values='unique%')\n",
    "source_pagetype_count_low = inlink_duplicate['Low Traffic Geos'].value_counts()\n",
    "source_pagetype_count_medium = inlink_duplicate['Medium Traffic Geos'].value_counts()\n",
    "source_pagetype_count_high = inlink_duplicate['High Traffic Geos'].value_counts()\n",
    "source_pagetype_category = pd.concat([source_pagetype_count_low,source_pagetype_count_medium,source_pagetype_count_high],axis=1,sort=False).reset_index()\n",
    "source_pagetype_category.rename(columns={\"index\": \"Unique%\"}, inplace=True)\n",
    "source_pagetype_category.replace(np.nan,0,inplace=True)\n",
    "source_pagetype_category.sort_values(ascending=True, by=\"Unique%\", inplace=True)\n",
    "source_pagetype_category"
   ]
  },
  {
   "cell_type": "code",
   "execution_count": null,
   "metadata": {},
   "outputs": [],
   "source": [
    "sns.set()\n",
    "source_pagetype_category.set_index('Unique%').T.plot(kind='bar', stacked=True,figsize=(9,6))\n",
    "plt.xticks(rotation=360, ha='right')\n",
    "plt.ylabel(\"Count of Inlink Pagetype Category\")\n",
    "plt.xlabel(\"Geos Category\")\n",
    "plt.title(\"Count of Inlink Pagetype for each range of Unique Inlinks%\")"
   ]
  },
  {
   "cell_type": "code",
   "execution_count": null,
   "metadata": {},
   "outputs": [],
   "source": []
  },
  {
   "cell_type": "markdown",
   "metadata": {},
   "source": [
    "# TYPE OF ANCHOR TEXTS\n",
    "\n",
    "#EXAMPLES\n",
    "     #Numeric--- 1,2, 34, 23, 11436, 7473, 12509 etc\n",
    "     #Numericalpha----- 11,436 Homes for sale, 11,436 for sale etc\n",
    "     #Cityhomesforsale------ Atlanta Homes for sale, Atlanta Homes For sale\n",
    "     #Cityview&realestate------ View Homes for Sale in Atlanta, Atlanta, GA Real Estate\n",
    "     # Onlycityname------- Atlanta, Los-Angeles, Chicago etc"
   ]
  },
  {
   "cell_type": "code",
   "execution_count": null,
   "metadata": {},
   "outputs": [],
   "source": [
    "def anchor(x):\n",
    "    if re.search(r'^\\d{,5}\\,*\\d{,10}$', str(x)):\n",
    "        return \"numeric\"\n",
    "    elif re.search(r'^\\d{,5}\\,*\\d{,10} (Homes for Sale|Homes For Sale|for sale)$',str(x)):\n",
    "        return \"numeric&alpha\"\n",
    "    elif re.search(r'(\\w\\s*){1,} (Homes for Sale|Homes For Sale)$',str(x)):\n",
    "        return \"cityhomesforsale\"\n",
    "    elif re.search(r'((^(View Homes for Sale in) (\\w\\s*){1,})|(((\\w\\s*){1,})\\,\\ ([a-zA-Z]{2}) (Real Estate)$))',str(x)):\n",
    "        return \"cityview&realestate\"\n",
    "    elif re.search(r'(\\w *)(\\w*\\s*){,2}$', str(x)):\n",
    "        return \"onlycityname\"\n",
    "    return str(x)"
   ]
  },
  {
   "cell_type": "code",
   "execution_count": null,
   "metadata": {},
   "outputs": [],
   "source": [
    "import re\n",
    "def realtor_anchor(x):\n",
    "    if re.search(r'^\\d{,5}\\,*\\d{,10}$', str(x)):\n",
    "        return \"numeric\"\n",
    "    elif re.search(r'^\\d{,5}\\,*\\d{,10} (Homes for Sale|Homes For Sale|for sale)$',str(x)):\n",
    "        return \"numeric&alpha\"\n",
    "    elif re.search(r'(^(Homes for sale)$|^(homes for sale)$|^(Homes for Sale)$)', str(x)):\n",
    "        return \"Homesforsale\"\n",
    "    elif re.search(r'(^(Houses for sale)$|^(houses for sale)$|^(Houses for Sale)$)', str(x)):\n",
    "        return \"Housesforsale\"\n",
    "    elif re.search(r'(^(real estate)$|^(Real Estate)$|^(Real estate)$)', str(x)):\n",
    "        return \"realestate\"\n",
    "    elif re.search(r'^(Real Estate in) (\\w\\s*){1,}|^(real estate in) (\\w\\s*){1,}',str(x)):\n",
    "        return \"realestate2\"\n",
    "    elif re.search(r'((\\w\\s*){1,} (Real Estate|real estate|Real estate)$|^(Real Estate|real estate|Real estate) (\\w\\s*){1,})',str(x)):\n",
    "        return \"cityrealestate\"\n",
    "    elif re.search(r'(^(Homes For Sale in) (\\w\\s*){1,}|^(homes for sale in) (\\w\\s*){1,}|^(Homes for sale in) (\\w\\s*){1,})',str(x)):\n",
    "        return \"Homesforsaleincity\"\n",
    "    elif re.search(r'(^(Houses For Sale in) (\\w\\s*){1,}|^(houses for sale in) (\\w\\s*){1,}|^(Houses for sale in) (\\w\\s*){1,})',str(x)):\n",
    "        return \"Housesforsaleincity\"\n",
    "    elif re.search(r'((\\w\\s*){1,} (Homes for Sale|Homes For Sale|homes for sale|Homes for sale)$)|(^(Homes for Sale|Homes For Sale|homes for sale|Homes for sale) (\\w\\s*){1,})',str(x)):\n",
    "        return \"cityhomesforsale\"\n",
    "    elif re.search(r'((\\w\\s*){1,} (Houses for Sale|Houses For Sale|houses for sale|Houses for sale)$)|(^(Houses for Sale|Houses For Sale|houses for sale|Houses for sale) (\\w\\s*){1,})',str(x)):\n",
    "        return \"cityhousesforsale\"\n",
    "    elif re.search(r'(((\\w *)(\\w*\\s*){,3}$)|(((\\w\\s*){1,})\\,\\ ([a-zA-Z]{2})$))', str(x)):\n",
    "        return \"cityname&state\"\n",
    "    elif re.search(r'^(View Homes for Sale in) (\\w\\s*){1,}',str(x)):\n",
    "        return \"cityviewforsale\"\n",
    "    return str(x)"
   ]
  },
  {
   "cell_type": "code",
   "execution_count": null,
   "metadata": {},
   "outputs": [],
   "source": [
    "import re\n",
    "df1['anchortype'] = df1['Internal Inlinks - Anchor Text'].apply(realtor_anchor)\n",
    "\n",
    "# INLINKS COUNT FOR EACH TYPE OF ANCHOR TEXT\n",
    "a= df1.groupby(['geogroup','anchortype'])['Source Full URL'].count().reset_index()\n",
    "a= a.pivot(index=\"anchortype\",columns=\"geogroup\",values=\"Source Full URL\").sort_values(ascending=False, by=\"High Traffic Geos\")\n",
    "a"
   ]
  },
  {
   "cell_type": "code",
   "execution_count": null,
   "metadata": {},
   "outputs": [],
   "source": [
    "b= df1.groupby(['geogroup','anchortype','Full URL'])['Source Full URL'].nunique().reset_index()\n",
    "b= b.groupby(['geogroup','anchortype'])['Source Full URL'].sum().reset_index()\n",
    "b= b.pivot(index=\"anchortype\",columns=\"geogroup\",values=\"Source Full URL\").sort_values(ascending=False, by=\"High Traffic Geos\")\n",
    "b"
   ]
  },
  {
   "cell_type": "code",
   "execution_count": null,
   "metadata": {},
   "outputs": [],
   "source": [
    "df1['Source pagetype'].unique()"
   ]
  },
  {
   "cell_type": "code",
   "execution_count": null,
   "metadata": {},
   "outputs": [],
   "source": [
    "import matplotlib\n",
    "from matplotlib import pyplot as plt  \n",
    "# source pagetype wise different anchor type count\n",
    "pagetype_anchor= df1.groupby([\"geogroup\",\"anchortype\",\"Source pagetype\"])[\"Source Full URL\"].agg({\"count\": lambda x: x.count(),\"unique\": lambda x: x.nunique()}).sort_values(ascending=False, by=[\"anchortype\",\"count\"])\n",
    "pagetype_anchor1 = pagetype_anchor.groupby([\"geogroup\",\"anchortype\"])[\"count\"].sum().reset_index()\n",
    "pagetype_anchor1.set_index([\"geogroup\",\"anchortype\"], inplace=True)\n",
    "pagetype_anchor[\"%total\"] = pagetype_anchor[\"count\"]*100/pagetype_anchor1[\"count\"]\n",
    "pagetype_anchor = pagetype_anchor[[\"%total\"]]\n",
    "pagetype_anchor = pagetype_anchor[pagetype_anchor[\"%total\"]>=1]\n",
    "pagetype_anchor= pagetype_anchor.reset_index()\n",
    "pagetype_anchor= pagetype_anchor[pagetype_anchor['geogroup']==\"High Traffic Geos\"]\n",
    "pivot_df = pagetype_anchor.pivot(index='anchortype', columns='Source pagetype', values='%total')"
   ]
  },
  {
   "cell_type": "code",
   "execution_count": null,
   "metadata": {},
   "outputs": [],
   "source": [
    "import seaborn as sns\n",
    "sns.set()\n",
    "from matplotlib.colors import ListedColormap\n",
    "pivot_df.plot(kind='bar', stacked=True, figsize=(18,10))\n",
    "# colors = colors=['orange', 'green','teal','red','blue','violet','brown','black','purple','yellow','grey','cyan'\n",
    "# pivot_df.loc[:,['#nomatch', 'schools','pagination','withfilters','condostownhome','singlefamilyhome','Top8kurl','newhomes','overview','homesforsale','openhouses','explore']].plot.bar(stacked=True, color=colors, figsize=(18,8))\n",
    "# plt.xticks(rotation=360, ha='right')\n",
    "# plt.xlabel(\"Type of Anchor Text\")\n",
    "# plt.ylabel(\"Percentage of Inlinks which belongs to each Inlink Pagetype\")\n",
    "# plt.title(\"Distribution of Anchor Text across Inlinks Pagetype For High Traffic Geo Group\")\n",
    "# plt.show()"
   ]
  },
  {
   "cell_type": "code",
   "execution_count": null,
   "metadata": {},
   "outputs": [],
   "source": [
    "# starting with finding out the value of inlinks\n",
    "visit = pd.read_csv(\"C:/Users/ujjwala.gupta/Documents/Botify/visit_imp_srp.csv\")\n",
    "visit = visit.dropna()\n",
    "visit.rename(columns={\"Full URL\": \"Source Full URL\"}, inplace=True)\n",
    "df1_combine= pd.merge(df1, visit, on='Source Full URL', how=\"inner\")\n",
    "len(df1_combine)\n",
    "# df1_high_combine= df1_combine[df1_combine['geogroup']==\"High Traffic Geos\"]\n",
    "df1_test = df1_combine.groupby(['geogroup','Full URL',\"Source Full URL\"])[['No. of Visits (GSC)','Previous No. of Visits (GSC)','No. of Impressions (GSC)','Previous No. of Impressions (GSC)']].apply(lambda x: x.mean()).reset_index()\n",
    "# df1_high_test\n",
    "# combined_df= pd.merge(df1_test, inlink_list_new ,how=\"inner\",on=['geogroup','Full URL','Source Full URL'])\n",
    "# final_df= pd.merge(combined_df, df1_inlink, how=\"inner\",on=['Source Full URL'])"
   ]
  },
  {
   "cell_type": "code",
   "execution_count": null,
   "metadata": {},
   "outputs": [],
   "source": []
  },
  {
   "cell_type": "code",
   "execution_count": null,
   "metadata": {},
   "outputs": [],
   "source": []
  },
  {
   "cell_type": "code",
   "execution_count": null,
   "metadata": {},
   "outputs": [],
   "source": [
    "# for each source pagetype distribution of anchor text type\n",
    "pagetype_anchor= df1.groupby([\"geogroup\",\"Source pagetype\",\"anchortype\"])[\"Source Full URL\"].agg({\"count\": lambda x: x.count(),\"unique\": lambda x: x.nunique()}).sort_values(ascending=False, by=[\"anchortype\",\"count\"])\n",
    "pagetype_anchor1 = pagetype_anchor.groupby([\"geogroup\",\"Source pagetype\"])[\"count\"].sum().reset_index()\n",
    "pagetype_anchor1.set_index([\"geogroup\",\"Source pagetype\"], inplace=True)\n",
    "pagetype_anchor[\"%total\"] = pagetype_anchor[\"count\"]*100/pagetype_anchor1[\"count\"]\n",
    "pagetype_anchor = pagetype_anchor[[\"%total\"]]\n",
    "pagetype_anchor= pagetype_anchor.reset_index()\n",
    "pagetype_anchor= pagetype_anchor[pagetype_anchor['geogroup']==\"High Traffic Geos\"]\n",
    "pivot_df2 = pagetype_anchor.pivot(index='Source pagetype', columns='anchortype', values='%total')"
   ]
  },
  {
   "cell_type": "code",
   "execution_count": null,
   "metadata": {},
   "outputs": [],
   "source": [
    "import seaborn as sns\n",
    "sns.set()\n",
    "pivot_df2.plot(kind='bar', stacked=True, figsize=(18,10))"
   ]
  },
  {
   "cell_type": "markdown",
   "metadata": {},
   "source": [
    "# zillow analysis\n"
   ]
  },
  {
   "cell_type": "code",
   "execution_count": null,
   "metadata": {},
   "outputs": [],
   "source": []
  },
  {
   "cell_type": "code",
   "execution_count": null,
   "metadata": {},
   "outputs": [],
   "source": [
    "import pandas as pd\n",
    "zillow_df= pd.read_csv(\"C:/Users/ujjwala.gupta/Documents/Botify/zillow_inlinks.csv\")\n",
    "len(zillow_df)"
   ]
  },
  {
   "cell_type": "code",
   "execution_count": null,
   "metadata": {},
   "outputs": [],
   "source": [
    "#checke dthe null values\n",
    "# no null values in any column"
   ]
  },
  {
   "cell_type": "code",
   "execution_count": null,
   "metadata": {},
   "outputs": [],
   "source": [
    "zillow_df.columns"
   ]
  },
  {
   "cell_type": "code",
   "execution_count": null,
   "metadata": {},
   "outputs": [],
   "source": [
    "#categorizing the geogroup into high, medium and low\n",
    "df1['location'] = df1['Full URL'].apply(lambda x: x.split('/')[4])\n",
    "location_low = df1['location'][df1[\"geogroup\"]==\"Low Traffic Geos\"].unique().tolist()\n",
    "location_medium = df1['location'][df1[\"geogroup\"]==\"Medium Traffic Geos\"].unique().tolist()\n",
    "location_high = df1['location'][df1[\"geogroup\"]==\"High Traffic Geos\"].unique().tolist()"
   ]
  },
  {
   "cell_type": "code",
   "execution_count": null,
   "metadata": {},
   "outputs": [],
   "source": [
    "#matching locations in zillow and realtor\n",
    "location_low= [item.lower() for item in location_low]\n",
    "location_medium= [item.lower() for item in location_medium]\n",
    "location_high= [item.lower() for item in location_high]\n",
    "location_low = [sub.replace('_', '-') for sub in location_low] \n",
    "location_medium = [sub.replace('_', '-') for sub in location_medium]\n",
    "location_high = [sub.replace('_', '-') for sub in location_high] "
   ]
  },
  {
   "cell_type": "code",
   "execution_count": null,
   "metadata": {},
   "outputs": [],
   "source": [
    "zillow_df.columns"
   ]
  },
  {
   "cell_type": "code",
   "execution_count": null,
   "metadata": {},
   "outputs": [],
   "source": [
    "a= zillow_df['Source pagetype'].unique().tolist()\n",
    "# # new_list= ['overview','#nomatch','schools','top8kgeos','newhomes','typeland','singlefamilyhome','withfilters','newestlisting','openhouses','luxuryhomes','shortsalehomes','multifamilyhome',\n",
    "# #  'condostownhome','browse']\n",
    "# zillow_df = zillow_df.drop(zillow_df[(zillow_df['Source pagetype']==\"guide\") & (zillow_df['Source pagetype']==\"realestateagent&training\") & (zillow_df['Source pagetype']==\"ldppage\") & (zillow_df['Source pagetype']==\"realestateagent&training\")].index)\n",
    "a"
   ]
  },
  {
   "cell_type": "code",
   "execution_count": null,
   "metadata": {},
   "outputs": [],
   "source": [
    "# location for each geo in zillow\n",
    "zillow_df['location'] = zillow_df['Full URL'].apply(lambda x: x.split('/')[3])"
   ]
  },
  {
   "cell_type": "code",
   "execution_count": null,
   "metadata": {},
   "outputs": [],
   "source": [
    "zillow_df_low = zillow_df[zillow_df['location'].isin(location_low)]\n",
    "zillow_df_medium = zillow_df[zillow_df['location'].isin(location_medium)]\n",
    "zillow_df_high= zillow_df[zillow_df['location'].isin(location_high)]\n",
    "#add the column for each group and then merge the dataframes\n",
    "zillow_df_low['geogroup']=\"Low Traffic Geos\"\n",
    "zillow_df_medium['geogroup']='Medium Traffic Geos'\n",
    "zillow_df_high['geogroup']=\"High Traffic Geos\"\n",
    "zillow_df = zillow_df_high.append([zillow_df_medium, zillow_df_low])\n",
    "len(zillow_df)"
   ]
  },
  {
   "cell_type": "code",
   "execution_count": null,
   "metadata": {},
   "outputs": [],
   "source": [
    "#removing unwanted source pagetype\n",
    "zillow_df= zillow_df[~(zillow_df['Source pagetype']==\"guide\") & ~(zillow_df['Source pagetype']==\"realestateagent&training\")& ~(zillow_df['Source pagetype']==\"ldppage\")]"
   ]
  },
  {
   "cell_type": "code",
   "execution_count": null,
   "metadata": {},
   "outputs": [],
   "source": [
    "len(zillow_df)"
   ]
  },
  {
   "cell_type": "code",
   "execution_count": null,
   "metadata": {},
   "outputs": [],
   "source": [
    "zillow_df['Source pagetype'].value_counts()"
   ]
  },
  {
   "cell_type": "code",
   "execution_count": null,
   "metadata": {},
   "outputs": [],
   "source": [
    "#for each geo group count of full url having unique anchor text\n",
    "geo_anchor_count_zillow= zillow_df.groupby([\"geogroup\",\"Full URL\"])[\"Internal Inlinks - Anchor Text\"].nunique().reset_index()\n",
    "geo_anchor_count_zillow= geo_anchor_count_zillow.groupby(['geogroup','Internal Inlinks - Anchor Text'])['Full URL'].count().reset_index()\n",
    "geo_anchor_count_zillow= geo_anchor_count_zillow.pivot(index='Internal Inlinks - Anchor Text', columns='geogroup', values='Full URL')\n",
    "geo_anchor_count_zillow.replace(np.nan,0,inplace=True)\n",
    "geo_anchor_count_zillow"
   ]
  },
  {
   "cell_type": "code",
   "execution_count": null,
   "metadata": {},
   "outputs": [],
   "source": []
  },
  {
   "cell_type": "code",
   "execution_count": null,
   "metadata": {},
   "outputs": [],
   "source": [
    "# For each geo, count of inlinks by count of anchor text\n",
    "inlink_list_zillow= zillow_df.groupby([\"geogroup\",\"Full URL\",\"Source Full URL\"])[\"Internal Inlinks - Anchor Text\"].agg({\"count\": lambda x: x.count(),\"unique\": lambda x: x.nunique()}).reset_index()\n",
    "inlink_count_zillow = inlink_list_zillow.groupby(['geogroup','count'])[\"Source Full URL\"].count().reset_index()\n",
    "inlink_count_zillow = inlink_count_zillow.pivot(index='count', columns='geogroup', values='Source Full URL')\n",
    "inlink_count_zillow.rename(columns={\"count\":\"Anchor text count\"},inplace=True)\n",
    "inlink_count_zillow.replace(np.nan, 0,inplace=True)\n",
    "inlink_count_zillow"
   ]
  },
  {
   "cell_type": "code",
   "execution_count": null,
   "metadata": {},
   "outputs": [],
   "source": [
    "# For each geo, count of unique inlinks by count of anchor text\n",
    "inlink_list_zillow= zillow_df.groupby([\"geogroup\",\"Full URL\",\"Source Full URL\"])[\"Internal Inlinks - Anchor Text\"].agg({\"count\": lambda x: x.count(),\"unique\": lambda x: x.nunique()}).reset_index()\n",
    "inlink_count_zillow1 = inlink_list_zillow.groupby(['geogroup','unique'])[\"Source Full URL\"].count().reset_index()\n",
    "inlink_count_zillow1 = inlink_count_zillow1.pivot(index='unique', columns='geogroup', values='Source Full URL')\n",
    "inlink_count_zillow1.rename(columns={\"unique\":\"Anchor text count\"},inplace=True)\n",
    "inlink_count_zillow1.replace(np.nan,0, inplace=True)\n",
    "inlink_count_zillow1"
   ]
  },
  {
   "cell_type": "code",
   "execution_count": null,
   "metadata": {},
   "outputs": [],
   "source": [
    "check = zillow_df['Source Full URL'][zillow_df['Source pagetype']==\"overview\"].unique().tolist()\n",
    "check"
   ]
  },
  {
   "cell_type": "code",
   "execution_count": null,
   "metadata": {},
   "outputs": [],
   "source": [
    "# # #pagetype level distribution of unique and total inlinks- relects that which pagetype has more anchor text and inlinks jadha hai\n",
    "inlink_duplicate_zillow = zillow_df.groupby([\"geogroup\",\"Source pagetype\",\"Full URL\"])[\"Source Full URL\"].agg({\"count\": lambda x: x.count(),\"unique\": lambda x: x.nunique()})\n",
    "inlink_duplicate_zillow = inlink_duplicate_zillow[[\"count\",\"unique\"]].groupby(['geogroup','Source pagetype']).apply(lambda x: x.sum())\n",
    "# inlink_duplicate_zillow['unique%']= inlink_duplicate_zillow['unique']*100/inlink_duplicate_zillow['count']\n",
    "inlink_duplicate_zillow =inlink_duplicate_zillow[[\"unique\"]]\n",
    "inlink_duplicate_zillow.reset_index(inplace=True)\n",
    "inlink_duplicate_zillow= inlink_duplicate_zillow.pivot(index=\"Source pagetype\", columns=\"geogroup\",values=\"unique\").sort_values(ascending=False, by=\"High Traffic Geos\")\n",
    "# inlink_duplicate_zillow.reset_index(inplace=True)\n",
    "inlink_duplicate_zillow.replace(np.nan,0, inplace=True)\n"
   ]
  },
  {
   "cell_type": "code",
   "execution_count": null,
   "metadata": {},
   "outputs": [],
   "source": [
    "inlink_duplicate_zillow"
   ]
  },
  {
   "cell_type": "code",
   "execution_count": null,
   "metadata": {},
   "outputs": [],
   "source": [
    "# COUNT OF SOURCE PAGETYPE CATEGORY WHICH BELONGS TO DIFFERENT RANGE OF INLINKS UNIQUENESS\n",
    "inlink_duplicate_zillow[\"unique%\"] = inlink_duplicate_zillow[\"unique%\"].apply(unique)\n",
    "inlink_duplicate_zillow.replace(np.nan,0,inplace=True)\n",
    "inlink_duplicate_zillow = inlink_duplicate_zillow.pivot(index='Source pagetype',columns='geogroup',values='unique%')\n",
    "source_pagetype_count_low = inlink_duplicate_zillow['Low Traffic Geos'].value_counts()\n",
    "source_pagetype_count_medium = inlink_duplicate_zillow['Medium Traffic Geos'].value_counts()\n",
    "source_pagetype_count_high = inlink_duplicate_zillow['High Traffic Geos'].value_counts()\n",
    "source_pagetype_category = pd.concat([source_pagetype_count_low,source_pagetype_count_medium,source_pagetype_count_high],axis=1,sort=False).reset_index()\n",
    "source_pagetype_category.rename(columns={\"index\": \"Unique%\"}, inplace=True)\n",
    "source_pagetype_category.replace(np.nan,0,inplace=True)\n",
    "source_pagetype_category.sort_values(ascending=True, by=\"Unique%\", inplace=True)\n",
    "source_pagetype_category"
   ]
  },
  {
   "cell_type": "code",
   "execution_count": null,
   "metadata": {},
   "outputs": [],
   "source": [
    "testing= df1.groupby([\"geogroup\",\"Full URL\",\"Source Full URL\",\"Source pagetype\"])[\"Internal Inlinks - Anchor Text\"].agg({\"count\": lambda x: x.count(),\"unique\": lambda x: x.nunique()}).reset_index()"
   ]
  },
  {
   "cell_type": "code",
   "execution_count": null,
   "metadata": {},
   "outputs": [],
   "source": [
    "test= testing['Source pagetype'][(testing['geogroup']==\"High Traffic Geos\") & (testing['count']>=4)].value_counts()\n",
    "test"
   ]
  },
  {
   "cell_type": "code",
   "execution_count": null,
   "metadata": {},
   "outputs": [],
   "source": [
    "# testing1 = testing['Source Full URL'][(testing['geogroup']==\"High Traffic Geos\") & (testing['count']>=4) & (testing['Source pagetype']==\"openhouses\")].unique().tolist()\n",
    "# testing1"
   ]
  },
  {
   "cell_type": "code",
   "execution_count": null,
   "metadata": {},
   "outputs": [],
   "source": [
    "# def zillow_anchor1(x):\n",
    "#     if re.search(r'Chevron Left', str(x)):\n",
    "#         return \"pagination_numeric\"\n",
    "#     elif re.search(r'(\\w\\s*){1,} (Real Estate|real estate|Real estate)$',str(x)):\n",
    "#         return \"realestate\"\n",
    "#     elif re.search(r'(\\w\\s*){1,} (Homes for Sale|Homes For Sale|Homes for sale|Homes For sale)$',str(x)):\n",
    "#         return \"cityhomesforsale\"\n",
    "#     elif re.search(r'^(Homes For Sale in) (\\w\\s*){1,}',str(x)):\n",
    "#         return \"Homesforsale\"\n",
    "#     elif re.search(r'(((\\w *)(\\w*\\s*){,3}$)|(((\\w\\s*){1,})\\,\\ ([a-zA-Z]{2})$))', str(x)):\n",
    "#         return \"cityname&state\"\n",
    "#     elif re.search(r'^(Real Estate in) (\\w\\s*){1,}',str(x)):\n",
    "#         return \"realestate2\"\n",
    "#     elif re.search(r'(^(Houses for Sale in) (\\w\\s*){1,}',str(x)):\n",
    "#         return \"housesforsale\"\n",
    "#     return str(x)"
   ]
  },
  {
   "cell_type": "code",
   "execution_count": null,
   "metadata": {},
   "outputs": [],
   "source": [
    "import re\n",
    "def zillow_anchor(x):\n",
    "    if re.search(r'Chevron Left', str(x)):\n",
    "        return \"pagination_numeric\"\n",
    "    elif re.search(r'(^(Homes for sale)$|^(homes for sale)$|^(Homes for Sale)$)', str(x)):\n",
    "        return \"Homesforsale\"\n",
    "    elif re.search(r'(^(Houses for sale)$|^(houses for sale)$|^(Houses for Sale)$)', str(x)):\n",
    "        return \"Housesforsale\"\n",
    "    elif re.search(r'(^(real estate)$|^(Real Estate)$|^(Real estate)$)', str(x)):\n",
    "        return \"realestate\"\n",
    "    elif re.search(r'^(Real Estate in) (\\w\\s*){1,}|^(real estate in) (\\w\\s*){1,}',str(x)):\n",
    "        return \"realestate2\"\n",
    "    elif re.search(r'((\\w\\s*){1,} (Real Estate|real estate|Real estate)$|^(Real Estate|real estate|Real estate) (\\w\\s*){1,})',str(x)):\n",
    "        return \"cityrealestate\"\n",
    "    elif re.search(r'(^(Homes For Sale in) (\\w\\s*){1,}|^(homes for sale in) (\\w\\s*){1,}|^(Homes for sale in) (\\w\\s*){1,})',str(x)):\n",
    "        return \"Homesforsaleincity\"\n",
    "    elif re.search(r'(^(Houses For Sale in) (\\w\\s*){1,}|^(houses for sale in) (\\w\\s*){1,}|^(Houses for sale in) (\\w\\s*){1,})',str(x)):\n",
    "        return \"Housesforsaleincity\"\n",
    "    elif re.search(r'((\\w\\s*){1,} (Homes for Sale|Homes For Sale|homes for sale|Homes for sale)$)|(^(Homes for Sale|Homes For Sale|homes for sale|Homes for sale) (\\w\\s*){1,})',str(x)):\n",
    "        return \"cityhomesforsale\"\n",
    "    elif re.search(r'((\\w\\s*){1,} (Houses for Sale|Houses For Sale|houses for sale|Houses for sale)$)|(^(Houses for Sale|Houses For Sale|houses for sale|Houses for sale) (\\w\\s*){1,})',str(x)):\n",
    "        return \"cityhousesforsale\"\n",
    "    elif re.search(r'^(Listings & Sales)$', str(x)):\n",
    "        return \"overviewlistings\"\n",
    "    elif re.search(r'(((\\w *)(\\w*\\s*){,3}$)|(((\\w\\s*){1,})\\,\\ ([a-zA-Z]{2})$))', str(x)):\n",
    "        return \"cityname&state\"\n",
    "    return str(x)"
   ]
  },
  {
   "cell_type": "code",
   "execution_count": null,
   "metadata": {},
   "outputs": [],
   "source": [
    "# import re\n",
    "# zillow_df['anchortype']= zillow_df['Internal Inlinks - Anchor Text'].apply(zillow_anchor1)\n",
    "\n",
    "# # # INLINKS COUNT FOR EACH TYPE OF ANCHOR TEXT\n",
    "# a= zillow_df.groupby(['geogroup','anchortype'])['Source Full URL'].count().reset_index()\n",
    "# a= a.pivot(index=\"anchortype\",columns=\"geogroup\",values=\"Source Full URL\").sort_values(ascending=False, by=\"High Traffic Geos\")\n",
    "# a"
   ]
  },
  {
   "cell_type": "code",
   "execution_count": null,
   "metadata": {},
   "outputs": [],
   "source": [
    "import re\n",
    "zillow_df['anchortype']= zillow_df['Internal Inlinks - Anchor Text'].apply(zillow_anchor)\n",
    "\n",
    "# # # INLINKS COUNT FOR EACH TYPE OF ANCHOR TEXT\n",
    "# b= zillow_df.groupby(['geogroup','anchortype'])['Source Full URL'].count().reset_index()\n",
    "# b= b.pivot(index=\"anchortype\",columns=\"geogroup\",values=\"Source Full URL\").sort_values(ascending=False, by=\"High Traffic Geos\")\n",
    "# b"
   ]
  },
  {
   "cell_type": "code",
   "execution_count": null,
   "metadata": {},
   "outputs": [],
   "source": [
    "# MEDIUM IMPRESSIONED GEOS\n",
    "\n",
    "pagetype_anchor_zillow = zillow_df.groupby([\"geogroup\",\"anchortype\",\"Source pagetype\"])[\"Source Full URL\"].agg({\"count\": lambda x: x.count(),\"unique\": lambda x: x.nunique()}).sort_values(ascending=False, by=[\"anchortype\",\"count\"])\n",
    "pagetype_anchor1_zillow= pagetype_anchor_zillow.groupby([\"geogroup\",\"anchortype\"])[\"count\"].sum().reset_index()\n",
    "pagetype_anchor1_zillow.set_index([\"geogroup\",\"anchortype\"], inplace=True)\n",
    "pagetype_anchor_zillow[\"%total\"] = pagetype_anchor_zillow[\"count\"]*100/pagetype_anchor1_zillow[\"count\"]\n",
    "pagetype_anchor_zillow= pagetype_anchor_zillow[[\"%total\"]]\n",
    "pagetype_anchor_zillow = pagetype_anchor_zillow[pagetype_anchor_zillow[\"%total\"]>=1]\n",
    "pagetype_anchor_zillow = pagetype_anchor_zillow.reset_index()\n",
    "pagetype_anchor_zillow= pagetype_anchor_zillow[pagetype_anchor_zillow['geogroup']==\"Low Traffic Geos\"]\n",
    "# colors = colors=['orange', 'green','violet','red','blue','orange','brown','black','purple','yellow','grey','cyan']\n",
    "pivot_df = pagetype_anchor_zillow.pivot(index='anchortype', columns='Source pagetype', values='%total')\n",
    "# pivot_df.loc[:,['overview','ldppage','#nomatch','schools','top8kgeos','newhomes','typeland','singlefamilyhome','withfilters','forsalebyowner','comingsoon','newestlisting','apartments','townhouseforrent','openhouses','recentlysoldhomes','bankowned','luxuryhomes','shortsalehomes','rentals','multifamilyhome','condostownhome','forclosure','realestateagent&training','browse','guide']].plot.bar(stacked=True, color=colors, figsize=(18,8))\n",
    "# plt.xticks(rotation=360, ha='right')\n",
    "# plt.xlabel(\"Type of Anchor Text\")\n",
    "# plt.ylabel(\"Percentage of Inlinks which belongs to each Source Pagetype\")\n",
    "# plt.title(\"Distribution of Anchor Text across Source Pagetype For Medium Impressioned Geos\")"
   ]
  },
  {
   "cell_type": "code",
   "execution_count": null,
   "metadata": {},
   "outputs": [],
   "source": [
    "# pagetype_anchor_zillow"
   ]
  },
  {
   "cell_type": "code",
   "execution_count": null,
   "metadata": {},
   "outputs": [],
   "source": [
    "import matplotlib\n",
    "\n",
    "import seaborn as sns\n",
    "sns.set()\n",
    "pivot_df.plot(kind='bar', stacked=True, figsize=(18,8))"
   ]
  },
  {
   "cell_type": "code",
   "execution_count": null,
   "metadata": {},
   "outputs": [],
   "source": [
    "# zillow_df.to_csv(\"C:/Users/ujjwala.gupta/Documents/Botify/zillow_test.csv\")\n",
    "zillow_df['anchortype'].unique()"
   ]
  },
  {
   "cell_type": "code",
   "execution_count": null,
   "metadata": {},
   "outputs": [],
   "source": [
    "# MEDIUM IMPRESSIONED GEOS\n",
    "pagetype_anchor_zillow = zillow_df.groupby([\"geogroup\",\"Source pagetype\",\"anchortype\"])[\"Source Full URL\"].agg({\"count\": lambda x: x.count(),\"unique\": lambda x: x.nunique()})\n",
    "pagetype_anchor1_zillow = pagetype_anchor_zillow.groupby([\"geogroup\",\"Source pagetype\"])[\"count\"].sum().reset_index()\n",
    "pagetype_anchor1_zillow.set_index([\"geogroup\",\"Source pagetype\"], inplace=True)\n",
    "pagetype_anchor_zillow[\"%total\"] = pagetype_anchor_zillow[\"count\"]*100/pagetype_anchor1_zillow[\"count\"]\n",
    "pagetype_anchor_zillow= pagetype_anchor_zillow[[\"%total\"]]\n",
    "pagetype_anchor_zillow = pagetype_anchor_zillow.reset_index()\n",
    "pagetype_anchor_zillow= pagetype_anchor_zillow[pagetype_anchor_zillow['geogroup']==\"Low Traffic Geos\"]\n",
    "# pagetype_anchor_zillow = pagetype_anchor_zillow[pagetype_anchor_zillow[\"%total\"]>=1]\n",
    "pivot_df1 = pagetype_anchor_zillow.pivot(index='Source pagetype', columns='anchortype', values='%total')"
   ]
  },
  {
   "cell_type": "code",
   "execution_count": null,
   "metadata": {},
   "outputs": [],
   "source": [
    "import matplotlib\n",
    "\n",
    "import seaborn as sns\n",
    "sns.set()\n",
    "pivot_df1.plot(kind='bar', stacked=True, figsize=(18,8))"
   ]
  },
  {
   "cell_type": "code",
   "execution_count": null,
   "metadata": {},
   "outputs": [],
   "source": []
  },
  {
   "cell_type": "code",
   "execution_count": null,
   "metadata": {},
   "outputs": [],
   "source": []
  },
  {
   "cell_type": "code",
   "execution_count": null,
   "metadata": {},
   "outputs": [],
   "source": []
  }
 ],
 "metadata": {
  "kernelspec": {
   "display_name": "Python 3",
   "language": "python",
   "name": "python3"
  },
  "language_info": {
   "codemirror_mode": {
    "name": "ipython",
    "version": 3
   },
   "file_extension": ".py",
   "mimetype": "text/x-python",
   "name": "python",
   "nbconvert_exporter": "python",
   "pygments_lexer": "ipython3",
   "version": "3.8.5"
  }
 },
 "nbformat": 4,
 "nbformat_minor": 2
}
